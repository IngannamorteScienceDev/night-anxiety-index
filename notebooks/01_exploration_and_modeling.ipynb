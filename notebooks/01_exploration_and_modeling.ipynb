# 1. Imports
import pandas as pd
import numpy as np
import matplotlib.pyplot as plt
import seaborn as sns

# 2. Placeholder: Load example (заглушка до настоящих данных)
# df = pd.read_csv('../data/raw/mental_health_stats.csv')

# 3. Начальный EDA
# df.head()
# df.describe()
